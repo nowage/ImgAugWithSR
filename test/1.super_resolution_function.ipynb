{
 "cells": [
  {
   "cell_type": "code",
   "execution_count": null,
   "id": "122267d3-fa29-4d5f-82bf-02253a2c25de",
   "metadata": {},
   "outputs": [],
   "source": [
    "#!pip install matplotlib tensorflow-gpu tensorflow-hub"
   ]
  },
  {
   "cell_type": "code",
   "execution_count": 2,
   "id": "df91b9e8-0aed-4594-8308-2137263f2acf",
   "metadata": {},
   "outputs": [],
   "source": [
    "from iaws.superResolution import *"
   ]
  },
  {
   "cell_type": "code",
   "execution_count": 3,
   "id": "51ab931b-731e-44a9-b1d7-8ef5f14f33d4",
   "metadata": {},
   "outputs": [],
   "source": [
    "basePath=\"/prj/nowage/ImgAugWithSR/imgs/HardHatSample__small/\"\n",
    "images_path         = basePath + \"images/\"\n",
    "images_resized_path = basePath + \"images_resized/\"\n",
    "images_super_path   = basePath + \"images_super/\"\n",
    "images_chopped_path = basePath + \"images_chopped/\"\n",
    "labels_path         = basePath + \"labels/\"\n",
    "labels_resized_path = basePath + \"labels_resized/\"\n",
    "labels_super_path   = basePath + \"labels_super/\"\n",
    "labels_chopped_path = basePath + \"labels_chopped/\"\n",
    "# !ls {images_path}"
   ]
  },
  {
   "cell_type": "code",
   "execution_count": 4,
   "id": "72f7c00a-00bd-4936-bab4-e2b86a103782",
   "metadata": {},
   "outputs": [
    {
     "name": "stderr",
     "output_type": "stream",
     "text": [
      "2021-11-11 13:27:56.753027: I tensorflow/core/platform/cpu_feature_guard.cc:151] This TensorFlow binary is optimized with oneAPI Deep Neural Network Library (oneDNN) to use the following CPU instructions in performance-critical operations:  AVX2 FMA\n",
      "To enable them in other operations, rebuild TensorFlow with the appropriate compiler flags.\n",
      "2021-11-11 13:27:57.402317: I tensorflow/core/common_runtime/gpu/gpu_device.cc:1525] Created device /job:localhost/replica:0/task:0/device:GPU:0 with 84 MB memory:  -> device: 0, name: NVIDIA GeForce GTX 1060 6GB, pci bus id: 0000:01:00.0, compute capability: 6.1\n",
      "2021-11-11 13:27:57.402702: I tensorflow/core/common_runtime/gpu/gpu_device.cc:1525] Created device /job:localhost/replica:0/task:0/device:GPU:1 with 5069 MB memory:  -> device: 1, name: NVIDIA GeForce GTX 1060 6GB, pci bus id: 0000:02:00.0, compute capability: 6.1\n",
      "WARNING:absl:Please consider providing the trackable_obj argument in the from_concrete_functions. Providing without the trackable_obj argument is deprecated and it will use the deprecated conversion path.\n",
      "2021-11-11 13:28:00.296169: I tensorflow/core/grappler/devices.cc:66] Number of eligible GPUs (core count >= 8, compute capability >= 0.0): 2\n",
      "2021-11-11 13:28:00.296268: I tensorflow/core/grappler/clusters/single_machine.cc:358] Starting new session\n",
      "2021-11-11 13:28:00.297734: I tensorflow/core/common_runtime/gpu/gpu_device.cc:1525] Created device /job:localhost/replica:0/task:0/device:GPU:0 with 84 MB memory:  -> device: 0, name: NVIDIA GeForce GTX 1060 6GB, pci bus id: 0000:01:00.0, compute capability: 6.1\n",
      "2021-11-11 13:28:00.297902: I tensorflow/core/common_runtime/gpu/gpu_device.cc:1525] Created device /job:localhost/replica:0/task:0/device:GPU:1 with 5069 MB memory:  -> device: 1, name: NVIDIA GeForce GTX 1060 6GB, pci bus id: 0000:02:00.0, compute capability: 6.1\n",
      "2021-11-11 13:28:00.371616: I tensorflow/core/grappler/optimizers/meta_optimizer.cc:1149] Optimization results for grappler item: graph_to_optimize\n",
      "  function_optimizer: Graph size after: 1953 nodes (1608), 3017 edges (2672), time = 32.593ms.\n",
      "  function_optimizer: function_optimizer did nothing. time = 1.705ms.\n",
      "\n",
      "2021-11-11 13:28:01.524744: W tensorflow/compiler/mlir/lite/python/tf_tfl_flatbuffer_helpers.cc:363] Ignored output_format.\n",
      "2021-11-11 13:28:01.524774: W tensorflow/compiler/mlir/lite/python/tf_tfl_flatbuffer_helpers.cc:366] Ignored drop_control_dependency.\n",
      "2021-11-11 13:28:01.579217: I tensorflow/compiler/mlir/tensorflow/utils/dump_mlir_util.cc:237] disabling MLIR crash reproducer, set env var `MLIR_CRASH_REPRODUCER_DIRECTORY` to enable.\n",
      "2021-11-11 13:28:01.738677: I tensorflow/compiler/mlir/lite/flatbuffer_export.cc:1962] Estimated count of arithmetic ops: 568.245 G  ops, equivalently 284.123 G  MACs\n",
      "\n",
      "2021-11-11 13:28:01.747849: I tensorflow/lite/tools/optimize/quantize_weights.cc:225] Skipping quantization of tensor model/rrdb_net/conv2d_8/Conv2D;StatefulPartitionedCall/model/rrdb_net/conv2d_8/Conv2D because it has fewer than 1024 elements (864).\n",
      "2021-11-11 13:28:01.747929: I tensorflow/lite/tools/optimize/quantize_weights.cc:225] Skipping quantization of tensor model/rrdb_net/conv2d_176/Conv2D;StatefulPartitionedCall/model/rrdb_net/conv2d_176/Conv2D because it has fewer than 1024 elements (864).\n",
      "WARNING:absl:Buffer deduplication procedure will be skipped when flatbuffer library is not properly loaded\n"
     ]
    },
    {
     "name": "stdout",
     "output_type": "stream",
     "text": [
      "/prj/nowage/ImgAugWithSR/imgs/HardHatSample__small/images_resized/000003_jpg.rf.da4ac3b48b7a600add2281eacaf7dd82.jpg\n"
     ]
    },
    {
     "name": "stderr",
     "output_type": "stream",
     "text": [
      "WARNING:absl:Please consider providing the trackable_obj argument in the from_concrete_functions. Providing without the trackable_obj argument is deprecated and it will use the deprecated conversion path.\n",
      "2021-11-11 13:37:15.593506: I tensorflow/core/grappler/devices.cc:66] Number of eligible GPUs (core count >= 8, compute capability >= 0.0): 2\n",
      "2021-11-11 13:37:15.593584: I tensorflow/core/grappler/clusters/single_machine.cc:358] Starting new session\n",
      "2021-11-11 13:37:15.595593: I tensorflow/core/common_runtime/gpu/gpu_device.cc:1525] Created device /job:localhost/replica:0/task:0/device:GPU:0 with 84 MB memory:  -> device: 0, name: NVIDIA GeForce GTX 1060 6GB, pci bus id: 0000:01:00.0, compute capability: 6.1\n",
      "2021-11-11 13:37:15.595869: I tensorflow/core/common_runtime/gpu/gpu_device.cc:1525] Created device /job:localhost/replica:0/task:0/device:GPU:1 with 5069 MB memory:  -> device: 1, name: NVIDIA GeForce GTX 1060 6GB, pci bus id: 0000:02:00.0, compute capability: 6.1\n",
      "2021-11-11 13:37:15.648617: I tensorflow/core/grappler/optimizers/meta_optimizer.cc:1149] Optimization results for grappler item: graph_to_optimize\n",
      "  function_optimizer: Graph size after: 1953 nodes (1608), 3017 edges (2672), time = 31.634ms.\n",
      "  function_optimizer: function_optimizer did nothing. time = 1.834ms.\n",
      "\n",
      "2021-11-11 13:37:16.731363: W tensorflow/compiler/mlir/lite/python/tf_tfl_flatbuffer_helpers.cc:363] Ignored output_format.\n",
      "2021-11-11 13:37:16.731393: W tensorflow/compiler/mlir/lite/python/tf_tfl_flatbuffer_helpers.cc:366] Ignored drop_control_dependency.\n",
      "2021-11-11 13:37:16.930278: I tensorflow/compiler/mlir/lite/flatbuffer_export.cc:1962] Estimated count of arithmetic ops: 573.985 G  ops, equivalently 286.992 G  MACs\n",
      "\n",
      "2021-11-11 13:37:16.939844: I tensorflow/lite/tools/optimize/quantize_weights.cc:225] Skipping quantization of tensor model/rrdb_net/conv2d_8/Conv2D;StatefulPartitionedCall/model/rrdb_net/conv2d_8/Conv2D because it has fewer than 1024 elements (864).\n",
      "2021-11-11 13:37:16.939925: I tensorflow/lite/tools/optimize/quantize_weights.cc:225] Skipping quantization of tensor model/rrdb_net/conv2d_176/Conv2D;StatefulPartitionedCall/model/rrdb_net/conv2d_176/Conv2D because it has fewer than 1024 elements (864).\n",
      "WARNING:absl:Buffer deduplication procedure will be skipped when flatbuffer library is not properly loaded\n"
     ]
    },
    {
     "name": "stdout",
     "output_type": "stream",
     "text": [
      "/prj/nowage/ImgAugWithSR/imgs/HardHatSample__small/images_resized/000002_jpg.rf.14c099486ff0a2df2d20d82da93b46f5.jpg\n"
     ]
    },
    {
     "name": "stderr",
     "output_type": "stream",
     "text": [
      "WARNING:absl:Please consider providing the trackable_obj argument in the from_concrete_functions. Providing without the trackable_obj argument is deprecated and it will use the deprecated conversion path.\n",
      "2021-11-11 13:46:36.183518: I tensorflow/core/grappler/devices.cc:66] Number of eligible GPUs (core count >= 8, compute capability >= 0.0): 2\n",
      "2021-11-11 13:46:36.183589: I tensorflow/core/grappler/clusters/single_machine.cc:358] Starting new session\n",
      "2021-11-11 13:46:36.185618: I tensorflow/core/common_runtime/gpu/gpu_device.cc:1525] Created device /job:localhost/replica:0/task:0/device:GPU:0 with 84 MB memory:  -> device: 0, name: NVIDIA GeForce GTX 1060 6GB, pci bus id: 0000:01:00.0, compute capability: 6.1\n",
      "2021-11-11 13:46:36.185891: I tensorflow/core/common_runtime/gpu/gpu_device.cc:1525] Created device /job:localhost/replica:0/task:0/device:GPU:1 with 5069 MB memory:  -> device: 1, name: NVIDIA GeForce GTX 1060 6GB, pci bus id: 0000:02:00.0, compute capability: 6.1\n",
      "2021-11-11 13:46:36.238459: I tensorflow/core/grappler/optimizers/meta_optimizer.cc:1149] Optimization results for grappler item: graph_to_optimize\n",
      "  function_optimizer: Graph size after: 1953 nodes (1608), 3017 edges (2672), time = 31.633ms.\n",
      "  function_optimizer: function_optimizer did nothing. time = 0.63ms.\n",
      "\n",
      "2021-11-11 13:46:37.440855: W tensorflow/compiler/mlir/lite/python/tf_tfl_flatbuffer_helpers.cc:363] Ignored output_format.\n",
      "2021-11-11 13:46:37.440885: W tensorflow/compiler/mlir/lite/python/tf_tfl_flatbuffer_helpers.cc:366] Ignored drop_control_dependency.\n",
      "2021-11-11 13:46:37.634875: I tensorflow/compiler/mlir/lite/flatbuffer_export.cc:1962] Estimated count of arithmetic ops: 622.774 G  ops, equivalently 311.387 G  MACs\n",
      "\n",
      "2021-11-11 13:46:37.643592: I tensorflow/lite/tools/optimize/quantize_weights.cc:225] Skipping quantization of tensor model/rrdb_net/conv2d_8/Conv2D;StatefulPartitionedCall/model/rrdb_net/conv2d_8/Conv2D because it has fewer than 1024 elements (864).\n",
      "2021-11-11 13:46:37.643674: I tensorflow/lite/tools/optimize/quantize_weights.cc:225] Skipping quantization of tensor model/rrdb_net/conv2d_176/Conv2D;StatefulPartitionedCall/model/rrdb_net/conv2d_176/Conv2D because it has fewer than 1024 elements (864).\n",
      "WARNING:absl:Buffer deduplication procedure will be skipped when flatbuffer library is not properly loaded\n"
     ]
    },
    {
     "name": "stdout",
     "output_type": "stream",
     "text": [
      "/prj/nowage/ImgAugWithSR/imgs/HardHatSample__small/images_resized/000004_jpg.rf.8f0984ca266ad0bb1ccce4a3dc095291.jpg\n"
     ]
    },
    {
     "name": "stderr",
     "output_type": "stream",
     "text": [
      "WARNING:absl:Please consider providing the trackable_obj argument in the from_concrete_functions. Providing without the trackable_obj argument is deprecated and it will use the deprecated conversion path.\n",
      "2021-11-11 13:56:44.098299: I tensorflow/core/grappler/devices.cc:66] Number of eligible GPUs (core count >= 8, compute capability >= 0.0): 2\n",
      "2021-11-11 13:56:44.098371: I tensorflow/core/grappler/clusters/single_machine.cc:358] Starting new session\n",
      "2021-11-11 13:56:44.100308: I tensorflow/core/common_runtime/gpu/gpu_device.cc:1525] Created device /job:localhost/replica:0/task:0/device:GPU:0 with 84 MB memory:  -> device: 0, name: NVIDIA GeForce GTX 1060 6GB, pci bus id: 0000:01:00.0, compute capability: 6.1\n",
      "2021-11-11 13:56:44.100587: I tensorflow/core/common_runtime/gpu/gpu_device.cc:1525] Created device /job:localhost/replica:0/task:0/device:GPU:1 with 5069 MB memory:  -> device: 1, name: NVIDIA GeForce GTX 1060 6GB, pci bus id: 0000:02:00.0, compute capability: 6.1\n",
      "2021-11-11 13:56:44.156979: I tensorflow/core/grappler/optimizers/meta_optimizer.cc:1149] Optimization results for grappler item: graph_to_optimize\n",
      "  function_optimizer: Graph size after: 1953 nodes (1608), 3017 edges (2672), time = 34.095ms.\n",
      "  function_optimizer: function_optimizer did nothing. time = 0.684ms.\n",
      "\n",
      "2021-11-11 13:56:45.236294: W tensorflow/compiler/mlir/lite/python/tf_tfl_flatbuffer_helpers.cc:363] Ignored output_format.\n",
      "2021-11-11 13:56:45.236323: W tensorflow/compiler/mlir/lite/python/tf_tfl_flatbuffer_helpers.cc:366] Ignored drop_control_dependency.\n",
      "2021-11-11 13:56:45.428164: I tensorflow/compiler/mlir/lite/flatbuffer_export.cc:1962] Estimated count of arithmetic ops: 645.733 G  ops, equivalently 322.867 G  MACs\n",
      "\n",
      "2021-11-11 13:56:45.437684: I tensorflow/lite/tools/optimize/quantize_weights.cc:225] Skipping quantization of tensor model/rrdb_net/conv2d_8/Conv2D;StatefulPartitionedCall/model/rrdb_net/conv2d_8/Conv2D because it has fewer than 1024 elements (864).\n",
      "2021-11-11 13:56:45.437766: I tensorflow/lite/tools/optimize/quantize_weights.cc:225] Skipping quantization of tensor model/rrdb_net/conv2d_176/Conv2D;StatefulPartitionedCall/model/rrdb_net/conv2d_176/Conv2D because it has fewer than 1024 elements (864).\n",
      "WARNING:absl:Buffer deduplication procedure will be skipped when flatbuffer library is not properly loaded\n"
     ]
    },
    {
     "name": "stdout",
     "output_type": "stream",
     "text": [
      "/prj/nowage/ImgAugWithSR/imgs/HardHatSample__small/images_resized/000001_jpg.rf.45fd629cae669b7236f4f5484605be64.jpg\n",
      "000001_jpg.rf.45fd629cae669b7236f4f5484605be64.jpg\n",
      "000002_jpg.rf.14c099486ff0a2df2d20d82da93b46f5.jpg\n",
      "000003_jpg.rf.da4ac3b48b7a600add2281eacaf7dd82.jpg\n",
      "000004_jpg.rf.8f0984ca266ad0bb1ccce4a3dc095291.jpg\n"
     ]
    }
   ],
   "source": [
    "\n",
    "superResolutionBatch( images_resized_path, images_super_path )  \n",
    "!ls {images_super_path}"
   ]
  },
  {
   "cell_type": "code",
   "execution_count": null,
   "id": "7f358984-1324-4be2-94e2-32a02dcb53c2",
   "metadata": {},
   "outputs": [],
   "source": []
  },
  {
   "cell_type": "code",
   "execution_count": null,
   "id": "3df946b4-7f70-4b29-8270-9ced15073d9c",
   "metadata": {},
   "outputs": [],
   "source": []
  },
  {
   "cell_type": "code",
   "execution_count": null,
   "id": "8c1ee08c-1613-4ee5-8af7-0df9ac8adfe6",
   "metadata": {},
   "outputs": [],
   "source": []
  }
 ],
 "metadata": {
  "kernelspec": {
   "display_name": "Python 3 (ipykernel)",
   "language": "python",
   "name": "python3"
  },
  "language_info": {
   "codemirror_mode": {
    "name": "ipython",
    "version": 3
   },
   "file_extension": ".py",
   "mimetype": "text/x-python",
   "name": "python",
   "nbconvert_exporter": "python",
   "pygments_lexer": "ipython3",
   "version": "3.8.0"
  }
 },
 "nbformat": 4,
 "nbformat_minor": 5
}
